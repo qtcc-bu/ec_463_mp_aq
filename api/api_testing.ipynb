{
 "cells": [
  {
   "cell_type": "code",
   "execution_count": 1,
   "metadata": {},
   "outputs": [],
   "source": [
    "import server"
   ]
  },
  {
   "cell_type": "code",
   "execution_count": 2,
   "metadata": {},
   "outputs": [
    {
     "name": "stdout",
     "output_type": "stream",
     "text": [
      "Server Initialized!\n"
     ]
    }
   ],
   "source": [
    "# Initializing Server state \n",
    "Server = server.ServerState()"
   ]
  },
  {
   "cell_type": "code",
   "execution_count": 3,
   "metadata": {},
   "outputs": [
    {
     "name": "stdout",
     "output_type": "stream",
     "text": [
      "Successfully registered!\n"
     ]
    },
    {
     "data": {
      "text/plain": [
       "True"
      ]
     },
     "execution_count": 3,
     "metadata": {},
     "output_type": "execute_result"
    }
   ],
   "source": [
    "# creates new user \n",
    "email = 'qtcc@bu.edu'\n",
    "password = 'password'\n",
    "name = 'Quentin Clark'\n",
    "Server.sign_up(email,name,password)"
   ]
  },
  {
   "cell_type": "code",
   "execution_count": 4,
   "metadata": {},
   "outputs": [
    {
     "name": "stdout",
     "output_type": "stream",
     "text": [
      "My Token: 0.5122223416928535\n"
     ]
    }
   ],
   "source": [
    "# Logs-in, which gives individual user token\n",
    "qtcc_token = Server.login(email,password)\n",
    "print('My Token:',qtcc_token)"
   ]
  },
  {
   "cell_type": "code",
   "execution_count": 5,
   "metadata": {},
   "outputs": [
    {
     "data": {
      "text/plain": [
       "False"
      ]
     },
     "execution_count": 5,
     "metadata": {},
     "output_type": "execute_result"
    }
   ],
   "source": [
    "# Login attempt failure\n",
    "Server.login(email,'meow')"
   ]
  },
  {
   "cell_type": "code",
   "execution_count": 6,
   "metadata": {},
   "outputs": [
    {
     "name": "stdout",
     "output_type": "stream",
     "text": [
      "User already registered!\n"
     ]
    },
    {
     "data": {
      "text/plain": [
       "False"
      ]
     },
     "execution_count": 6,
     "metadata": {},
     "output_type": "execute_result"
    }
   ],
   "source": [
    "# Signup failure, where the email is already registered\n",
    "Server.sign_up(email,name,password)"
   ]
  },
  {
   "cell_type": "code",
   "execution_count": 7,
   "metadata": {},
   "outputs": [
    {
     "name": "stdout",
     "output_type": "stream",
     "text": [
      "Successfully registered!\n"
     ]
    },
    {
     "data": {
      "text/plain": [
       "True"
      ]
     },
     "execution_count": 7,
     "metadata": {},
     "output_type": "execute_result"
    }
   ],
   "source": [
    "# Makes a new user\n",
    "axel_email = 'axelt@bu.edu'\n",
    "axel_password = 'password'\n",
    "axel_name = 'Alex S. Toro Vega'\n",
    "Server.sign_up(axel_email,axel_name,password)"
   ]
  },
  {
   "cell_type": "code",
   "execution_count": 8,
   "metadata": {},
   "outputs": [
    {
     "data": {
      "text/plain": [
       "True"
      ]
     },
     "execution_count": 8,
     "metadata": {},
     "output_type": "execute_result"
    }
   ],
   "source": [
    "# Starts a chat from Quentin to Axel\n",
    "Server.send_message_to_convo(qtcc_token,axel_name,'',False,'Hello! I am Quentin')"
   ]
  },
  {
   "cell_type": "code",
   "execution_count": 9,
   "metadata": {},
   "outputs": [
    {
     "name": "stdout",
     "output_type": "stream",
     "text": [
      "### Quentin Clark ###\n",
      "Hello! I am Quentin\n",
      "\n"
     ]
    }
   ],
   "source": [
    "# gets the conversation and prints it\n",
    "conversation = Server.find_convo_from_name(qtcc_token,axel_name)\n",
    "for message in conversation:\n",
    "    print(message)\n"
   ]
  },
  {
   "cell_type": "code",
   "execution_count": 10,
   "metadata": {},
   "outputs": [
    {
     "name": "stdout",
     "output_type": "stream",
     "text": [
      "### Quentin Clark ###\n",
      "Hello! I am Quentin\n",
      "\n",
      "### Quentin Clark ###\n",
      "Welcome to Senior Design.\n",
      "\n",
      "### Alex S. Toro Vega ###\n",
      "Thank you!. Are you a computer engineering major?\n",
      "\n",
      "### Quentin Clark ###\n",
      "No, I am a Philosophy major. But do not tell anybody\n",
      "\n",
      "### Alex S. Toro Vega ###\n",
      "Then you should transfer out of this class!\n",
      "\n"
     ]
    }
   ],
   "source": [
    "# Adds some more messages, from both sides\n",
    "# This also demonstrates how you can find a convo both by end-user email or end-user name. \n",
    "axel_token = Server.login(axel_email,axel_password)\n",
    "Server.send_message_to_convo(qtcc_token,axel_name,'',False,'Welcome to Senior Design.')\n",
    "Server.send_message_to_convo(axel_token,name,'',False,'Thank you!. Are you a computer engineering major?')\n",
    "Server.send_message_to_convo(qtcc_token,'',axel_email,True,'No, I am a Philosophy major. But do not tell anybody')\n",
    "Server.send_message_to_convo(axel_token,name,'',False,'Then you should transfer out of this class!')\n",
    "# prints out the messages\n",
    "conversation = Server.find_convo_from_name(qtcc_token,axel_name)\n",
    "for message in conversation:\n",
    "    print(message)"
   ]
  },
  {
   "cell_type": "code",
   "execution_count": 11,
   "metadata": {},
   "outputs": [
    {
     "name": "stdout",
     "output_type": "stream",
     "text": [
      "### Quentin Clark ###\n",
      "Hello! I am Quentin\n",
      "\n",
      "### Quentin Clark ###\n",
      "Welcome to Senior Design.\n",
      "\n",
      "### Alex S. Toro Vega ###\n",
      "Thank you!. Are you a computer engineering major?\n",
      "\n",
      "### Quentin Clark ###\n",
      "No, I am a Philosophy major. But do not tell anybody\n",
      "\n",
      "### Alex S. Toro Vega ###\n",
      "Then you should transfer out of this class!\n",
      "\n"
     ]
    }
   ],
   "source": [
    "# Shows you can also find conversation from Axel's side, and through an email instead of a name\n",
    "conversation = Server.find_convo_from_email(axel_token,email)\n",
    "for message in conversation:\n",
    "    print(message)"
   ]
  },
  {
   "cell_type": "code",
   "execution_count": 12,
   "metadata": {},
   "outputs": [
    {
     "name": "stdout",
     "output_type": "stream",
     "text": [
      "False\n"
     ]
    }
   ],
   "source": [
    "# Trying to find a person who does not exist.\n",
    "# Generally, the API made fails by returning False for things. \n",
    "conversation = Server.find_convo_from_name(qtcc_token,'Steve')\n",
    "print(conversation)\n"
   ]
  },
  {
   "cell_type": "code",
   "execution_count": 13,
   "metadata": {},
   "outputs": [
    {
     "name": "stdout",
     "output_type": "stream",
     "text": [
      "--After Axel (blocked) messages--\n",
      "### Quentin Clark ###\n",
      "Hello! I am Quentin\n",
      "\n",
      "### Quentin Clark ###\n",
      "Welcome to Senior Design.\n",
      "\n",
      "### Alex S. Toro Vega ###\n",
      "Thank you!. Are you a computer engineering major?\n",
      "\n",
      "### Quentin Clark ###\n",
      "No, I am a Philosophy major. But do not tell anybody\n",
      "\n",
      "### Alex S. Toro Vega ###\n",
      "Then you should transfer out of this class!\n",
      "\n",
      "--After Quentin ( not blocked) messages--\n",
      "### Quentin Clark ###\n",
      "Hello! I am Quentin\n",
      "\n",
      "### Quentin Clark ###\n",
      "Welcome to Senior Design.\n",
      "\n",
      "### Alex S. Toro Vega ###\n",
      "Thank you!. Are you a computer engineering major?\n",
      "\n",
      "### Quentin Clark ###\n",
      "No, I am a Philosophy major. But do not tell anybody\n",
      "\n",
      "### Alex S. Toro Vega ###\n",
      "Then you should transfer out of this class!\n",
      "\n",
      "### Quentin Clark ###\n",
      "Haha, you cannot message me >:)\n",
      "\n"
     ]
    }
   ],
   "source": [
    "# Blocking Functionality \n",
    "\n",
    "# here Quentin blocks Axel\n",
    "Server.block_user_token(qtcc_token,axel_token)\n",
    "\n",
    "# now, Axel is unable to send Quentin new messages. Quentin can still send messages to Axel, and both can still view the old messages.\n",
    "Server.send_message_to_convo(axel_token,name,'',False,'Why did you block me :(')\n",
    "\n",
    "print('--After Axel (blocked) messages--')\n",
    "conversation = Server.find_convo_from_name(qtcc_token,axel_name)\n",
    "for message in conversation:\n",
    "    print(message)\n",
    "\n",
    "Server.send_message_to_convo(qtcc_token,'',axel_email,True,'Haha, you cannot message me >:)')\n",
    "\n",
    "print('--After Quentin ( not blocked) messages--')\n",
    "conversation = Server.find_convo_from_name(qtcc_token,axel_name)\n",
    "for message in conversation:\n",
    "    print(message)"
   ]
  }
 ],
 "metadata": {
  "kernelspec": {
   "display_name": "test",
   "language": "python",
   "name": "python3"
  },
  "language_info": {
   "codemirror_mode": {
    "name": "ipython",
    "version": 3
   },
   "file_extension": ".py",
   "mimetype": "text/x-python",
   "name": "python",
   "nbconvert_exporter": "python",
   "pygments_lexer": "ipython3",
   "version": "3.8.12"
  },
  "orig_nbformat": 4
 },
 "nbformat": 4,
 "nbformat_minor": 2
}
